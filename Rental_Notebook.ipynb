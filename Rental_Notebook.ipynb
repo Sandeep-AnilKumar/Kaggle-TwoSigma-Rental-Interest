{
 "cells": [
  {
   "cell_type": "markdown",
   "metadata": {
    "collapsed": true
   },
   "source": [
    "Rental Interest Kaggle Competition Notebook"
   ]
  },
  {
   "cell_type": "code",
   "execution_count": 1,
   "metadata": {},
   "outputs": [
    {
     "data": {
      "text/plain": [
       "{'divide': 'warn', 'invalid': 'warn', 'over': 'warn', 'under': 'ignore'}"
      ]
     },
     "execution_count": 1,
     "metadata": {},
     "output_type": "execute_result"
    }
   ],
   "source": [
    "import pandas as pd\n",
    "import time\n",
    "import csv\n",
    "from sklearn.ensemble import RandomForestClassifier as rfc\n",
    "import numpy as np\n",
    "\n",
    "np.seterr(divide='ignore', invalid='ignore')"
   ]
  },
  {
   "cell_type": "code",
   "execution_count": 2,
   "metadata": {},
   "outputs": [
    {
     "name": "stdout",
     "output_type": "stream",
     "text": [
      "Number of high interest houses := 3839\nNumber of medium interest houses := 11229\nNumber of low interest houses := 34284\n"
     ]
    }
   ],
   "source": [
    "start_time = time.time()\n",
    "train_df_total = pd.read_json('train.json')\n",
    "\n",
    "print \"Number of high interest houses := \" + str(len(train_df_total.loc[train_df_total['interest_level'] == 'high']))\n",
    "print \"Number of medium interest houses := \" + str(len(train_df_total.loc[train_df_total['interest_level'] == 'medium']))\n",
    "print \"Number of low interest houses := \" + str(len(train_df_total.loc[train_df_total['interest_level'] == 'low']))\n",
    "\n",
    "train_df_total['num_photos'] = train_df_total['photos'].apply(len)\n",
    "train_df_total['num_features'] = train_df_total['features'].apply(len)\n",
    "train_df_total['num_description'] = train_df_total['description'].apply(lambda x: len(x.split(\" \")))"
   ]
  },
  {
   "cell_type": "code",
   "execution_count": 3,
   "metadata": {},
   "outputs": [],
   "source": [
    "train_df_vector = train_df_total.loc[:, ['bathrooms', 'bedrooms', 'num_photos', 'num_features', 'num_description',\n",
    "                                         'building_id', 'display_address', 'latitude', 'longitude', 'manager_id',\n",
    "                                         'price', 'street_address']]\n",
    "\n",
    "train_df_vector['building_id'] = train_df_vector['building_id'].astype('category')\n",
    "train_df_vector['display_address'] = train_df_vector['display_address'].astype('category')\n",
    "train_df_vector['manager_id'] = train_df_vector['manager_id'].astype('category')\n",
    "train_df_vector['street_address'] = train_df_vector['street_address'].astype('category')\n",
    "\n",
    "categorical_columns = train_df_vector.select_dtypes(['category']).columns\n",
    "train_df_vector[categorical_columns] = train_df_vector[categorical_columns].apply(lambda x: x.cat.codes)\n",
    "\n",
    "train_df_target = train_df_total.loc[:, 'interest_level']"
   ]
  },
  {
   "cell_type": "markdown",
   "metadata": {},
   "source": [
    "Reading the testing data and encoding the attributes and constructing the features"
   ]
  },
  {
   "cell_type": "code",
   "execution_count": 4,
   "metadata": {},
   "outputs": [],
   "source": [
    "test_df = pd.read_json('test.json')\n",
    "\n",
    "test_df['num_photos'] = test_df['photos'].apply(len)\n",
    "test_df['num_features'] = test_df['features'].apply(len)\n",
    "test_df['num_description'] = test_df['description'].apply(lambda x: len(x.split(\" \")))\n",
    "\n",
    "test_df_vector = test_df.loc[:, ['bathrooms', 'bedrooms', 'num_photos', 'num_features', 'num_description',\n",
    "                                 'building_id', 'display_address', 'latitude', 'longitude', 'manager_id', 'price',\n",
    "                                 'street_address']]\n",
    "\n",
    "test_df_vector['building_id'] = test_df_vector['building_id'].astype('category')\n",
    "test_df_vector['display_address'] = test_df_vector['display_address'].astype('category')\n",
    "test_df_vector['manager_id'] = test_df_vector['manager_id'].astype('category')\n",
    "test_df_vector['street_address'] = test_df_vector['street_address'].astype('category')\n",
    "\n",
    "categorical_columns = test_df_vector.select_dtypes(['category']).columns\n",
    "test_df_vector[categorical_columns] = test_df_vector[categorical_columns].apply(lambda x: x.cat.codes)\n",
    "\n",
    "test_df_ids = list(test_df['listing_id'])"
   ]
  },
  {
   "cell_type": "markdown",
   "metadata": {},
   "source": [
    "Using the Random Forest Classifier got the Ranking of 1612, and score of 0.65577 (0.155 more than the leader)"
   ]
  },
  {
   "cell_type": "code",
   "execution_count": 5,
   "metadata": {},
   "outputs": [
    {
     "name": "stdout",
     "output_type": "stream",
     "text": [
      "Time for the Random Forest Classifier to train and predict on the testing data is := 122.50\n"
     ]
    }
   ],
   "source": [
    "rfc_clf = rfc(n_estimators=1000)\n",
    "\n",
    "rfc_clf.fit(train_df_vector, train_df_target)\n",
    "voting_prediction = rfc_clf.predict_proba(test_df_vector)\n",
    "\n",
    "print(\"Time for the Random Forest Classifier to train and predict on the testing data is := %.2f\" % (time.time() -\n",
    "                                                                                                     start_time))"
   ]
  },
  {
   "cell_type": "code",
   "execution_count": 6,
   "metadata": {},
   "outputs": [
    {
     "name": "stdout",
     "output_type": "stream",
     "text": [
      "Done with predicting Interest Levels for the test data\n"
     ]
    }
   ],
   "source": [
    "csv_file = open(\"submissions_new.csv\", 'w')\n",
    "wr = csv.writer(csv_file, delimiter=',', quoting=csv.QUOTE_NONE)\n",
    "wr.writerow(['listing_id', 'high', 'medium', 'low'])\n",
    "\n",
    "for index in range(0, len(test_df_ids)):\n",
    "    wr.writerow([test_df_ids[index], voting_prediction[index][0], voting_prediction[index][2], voting_prediction[index][1]])\n",
    "    index += 1\n",
    "\n",
    "print(\"Done with predicting Interest Levels for the test data\")\n",
    "csv_file.close()"
   ]
  }
 ],
 "metadata": {
  "kernelspec": {
   "display_name": "Python 2",
   "language": "python",
   "name": "python2"
  },
  "language_info": {
   "codemirror_mode": {
    "name": "ipython",
    "version": 2.0
   },
   "file_extension": ".py",
   "mimetype": "text/x-python",
   "name": "python",
   "nbconvert_exporter": "python",
   "pygments_lexer": "ipython2",
   "version": "2.7.6"
  }
 },
 "nbformat": 4,
 "nbformat_minor": 0
}